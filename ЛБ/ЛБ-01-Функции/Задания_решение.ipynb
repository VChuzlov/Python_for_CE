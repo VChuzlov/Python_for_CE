{
 "cells": [
  {
   "cell_type": "markdown",
   "metadata": {},
   "source": [
    "# Лабораторная работа № 1 - Функции"
   ]
  },
  {
   "cell_type": "markdown",
   "metadata": {},
   "source": [
    "## Пример"
   ]
  },
  {
   "cell_type": "markdown",
   "metadata": {},
   "source": [
    "По имеющимся исходным данным определите состав потока в объемных долях, используя\n",
    "следующию формулу:\n",
    "\n",
    "$$\n",
    "    \\varphi_i = \\dfrac{\\dfrac{\\omega _i}{\\rho _i}}{\\sum \\limits _{i=1}^n\\dfrac{\\omega _i}{\\rho _i}}\n",
    "$$\n",
    "\n",
    "где $\\varphi _i$ -  объемная доля $i$-го компонента; $\\omega _i$ -  массовая доля $i$-го компонента; $\\rho _i$ - плотность $i$-го компонента; $n$ - число компонентов в системе; $i$ - индекс компонента в системе."
   ]
  },
  {
   "cell_type": "markdown",
   "metadata": {},
   "source": [
    "### Исходные данные\n",
    "\n",
    "|Параметр|$C_1$|$C_2$|$C_3$|$iC_4$|$nC_4$|$iC_5$|$nC_5$|$nC_6$|\n",
    "|:-|:-:|:-:|:-:|:-:|:-:|:-:|:-:|:-:|\n",
    "|$\\omega _i$|0.1|0.1|0.1|0.4|0.2|0.05|0.03|0.02|\n",
    "|$\\rho _i$, г/см$^3$|0.416 |0.546|0.585|0.5510|0.6|0.616|0.6262|0.6594|\n",
    "|$M _i$, г/моль|16 |30|44|58|58|72|72|86|\n",
    "\n",
    "<br>\n",
    "\n",
    "> Вычисления необходимо реализовать в **виде функции**."
   ]
  },
  {
   "cell_type": "markdown",
   "metadata": {},
   "source": [
    "### Решение"
   ]
  },
  {
   "cell_type": "code",
   "execution_count": 2,
   "metadata": {},
   "outputs": [],
   "source": [
    "def mass_to_volume_fractions(\n",
    "    mass_fractions: list[float],\n",
    "    densities: list[float]\n",
    ") -> list[float]:\n",
    "\n",
    "    mf_by_rho = [mf / rho for mf, rho in zip(mass_fractions, densities)]\n",
    "    s = sum(mf_by_rho)\n",
    "\n",
    "    return [x / s for x in mf_by_rho]"
   ]
  },
  {
   "cell_type": "code",
   "execution_count": 3,
   "metadata": {},
   "outputs": [
    {
     "name": "stdout",
     "output_type": "stream",
     "text": [
      "  0.1326\n",
      "  0.1010\n",
      "  0.0943\n",
      "  0.4004\n",
      "  0.1838\n",
      "  0.0448\n",
      "  0.0264\n",
      "  0.0167\n",
      "1.0\n"
     ]
    }
   ],
   "source": [
    "mf = [.1, .1, .1, .4, .2, .05, .03, .02]\n",
    "rho = [.416, .546, .585, .5510, .6, .616, .6262, .6594]\n",
    "\n",
    "vf = mass_to_volume_fractions(\n",
    "    mass_fractions=mf, densities=rho)\n",
    "\n",
    "for v in vf:\n",
    "    print(f'{v:8.4f}')\n",
    "\n",
    "print(sum(vf))"
   ]
  },
  {
   "cell_type": "markdown",
   "metadata": {},
   "source": [
    "## Задание 1"
   ]
  },
  {
   "cell_type": "markdown",
   "metadata": {},
   "source": [
    "Используя исходные данные из примера, рассчитайте, реализовав соответствующие функции:"
   ]
  },
  {
   "cell_type": "markdown",
   "metadata": {},
   "source": [
    "1. Состав потока в мольных долях:\n",
    "\n",
    "$$\n",
    "    \\chi _i = \\dfrac{\\dfrac{\\omega _i}{M_i}}{\\sum \\limits_{i=1}^{n}\\dfrac{\\omega _i}{M_i}}\n",
    "$$\n",
    "\n",
    "где $\\chi _i$ - мольная доля $i$-го компонента; $\\omega _i$ - массовая доля $i$-го компонента; $M_i$ - молярная масса $i$-го компонента; $n$ - число компонентов в системе; $i$ - индекс компонента в системе.\n",
    "\n",
    "2. Плотность потока:\n",
    "\n",
    "$$\n",
    "    \\rho = \\dfrac{1}{\\sum \\limits_{i=1}^{n}\\dfrac{\\omega_i}{\\rho_i}}\n",
    "$$\n",
    "\n",
    "где $\\rho$ - плотность потока; $\\omega _i$ - массовая доля $i$-го компонента; $\\rho _i$ - плотность $i$-го компонента; $n$ - число компонентов в системе; $i$ - индекс компонента в системе.\n",
    "\n",
    "3. Среднюю молекулярную массу потока:\n",
    "\n",
    "$$\n",
    "    m = \\dfrac{1}{\\sum \\limits_{i=1}^{n}\\dfrac{\\omega_i}{M_i}}\n",
    "$$\n",
    "\n",
    "где $m$ - средняя молекулярная масса потока; $\\omega _i$ - массовая доля $i$-го компонента; $M_i$ - молярная масса $i$-го компонента; $n$ - число компонентов в системе; $i$ - индекс компонента в системе."
   ]
  },
  {
   "cell_type": "code",
   "execution_count": 1,
   "metadata": {},
   "outputs": [],
   "source": [
    "def mass_to_mole_fractions(\n",
    "        mf: list[float],\n",
    "        mr: list[float]\n",
    "    ) -> list[float]:\n",
    "    mf_by_mr = [mfi / mri for mfi, mri in zip(mf, mr)]\n",
    "    s = sum(mf_by_mr)\n",
    "    return [x / s for x in mf_by_mr]"
   ]
  },
  {
   "cell_type": "code",
   "execution_count": 4,
   "metadata": {},
   "outputs": [],
   "source": [
    "def calculate_additive_property(\n",
    "        mf: list[float],\n",
    "        property: list[float]\n",
    "    ) -> float:\n",
    "    return sum(m / p for m, p in zip(mf, property)) ** -1"
   ]
  },
  {
   "cell_type": "code",
   "execution_count": 12,
   "metadata": {},
   "outputs": [
    {
     "name": "stdout",
     "output_type": "stream",
     "text": [
      "Mole fractions\n",
      "  0.2655\n",
      "  0.1416\n",
      "  0.0965\n",
      "  0.2929\n",
      "  0.1465\n",
      "  0.0295\n",
      "  0.0177\n",
      "  0.0099\n",
      "Плотность потока: 0.5515 г/см^3\n",
      "Средняя молекулярная масса потока: 42.4727, г/моль\n"
     ]
    }
   ],
   "source": [
    "mf = [.1, .1, .1, .4, .2, .05, .03, .02]\n",
    "rho = [.416, .546, .585, .5510, .6, .616, .6262, .6594]\n",
    "mr = [16, 30, 44, 58, 58, 72, 72, 86]\n",
    "\n",
    "mole_fractions = mass_to_mole_fractions(\n",
    "    mf=mf, mr=mr\n",
    ")\n",
    "\n",
    "print('Mole fractions')\n",
    "for mol_frac in mole_fractions:\n",
    "    print(f'{mol_frac:8.4f}')\n",
    "\n",
    "density = calculate_additive_property(\n",
    "    mf=mf, property=rho\n",
    ")\n",
    "\n",
    "average_m = calculate_additive_property(\n",
    "    mf=mf, property=mr\n",
    ")\n",
    "\n",
    "print(f'Плотность потока: {density:6.4f} г/см^3\\n'\n",
    "      f'Средняя молекулярная масса потока: {average_m:6.4f}, г/моль')"
   ]
  },
  {
   "cell_type": "markdown",
   "metadata": {},
   "source": [
    "## Задание 2"
   ]
  },
  {
   "cell_type": "markdown",
   "metadata": {},
   "source": [
    "Пусть на смешение поступают материальные потоки следующего состава (массовые доли):\n",
    "\n",
    "|Поток|$C_1$|$C_2$|$C_3$|$iC_4$|$nC_4$|$iC_5$|$nC_5$|$C_6$|\n",
    "|-|-|-|-|-|-|-|-|-|\n",
    "|1|0.1|0.1|0.1|0.4|0.2|0.05|0.03|0.02|\n",
    "|2|0.1|0.2|0.1|0.3|0.1|0.15|0.03|0.02|\n",
    "|3|0.1|0.1|0.15|0.35|0.1|0.05|0.08|0.07|\n",
    "\n",
    "Расходы потоков $200$, $250$ и $120$ кг/ч, соответственно. Необходимо рассчитать состав итогового потока в массовых долях, реализовав соответствующую функцию."
   ]
  },
  {
   "cell_type": "markdown",
   "metadata": {},
   "source": [
    "Состав смесевого потока можно найти следующим образом:\n",
    "\n",
    "$$\n",
    "\t\\omega_i = \\dfrac{\\sum\\limits_{j=1}^{n}G_j \\cdot \\omega_{i, j}}{\\sum\\limits_{j=1}^{n}G_j}\n",
    "$$\n",
    "\n",
    "где $\\omega_i$ - массовая доля $i$-го компонента в смесевом потоке; $\\omega_{i, j}$ - массовая доля $i$-го компонента в $j$-ом потоке; $G_j$ - массовый расход $j$-го потока; $j$ - индекс потока; $i$ - индекс компонента в системе; $n$ - число потоков, подаваемых на смешение."
   ]
  },
  {
   "cell_type": "code",
   "execution_count": 17,
   "metadata": {},
   "outputs": [],
   "source": [
    "def mix(\n",
    "    flows_map: dict[float, list[float]]\n",
    ") -> list[float]:\n",
    "    mixture_flow_rate = sum(flows_map)\n",
    "    \n",
    "    mf, *_ = flows_map.values()\n",
    "    mixture_mf = [0 for _ in mf]\n",
    "    for g, mf in flows_map.items():\n",
    "        for i, _ in enumerate(mf):\n",
    "            mixture_mf[i] += mf[i] * g\n",
    "\n",
    "    return [mf / mixture_flow_rate for mf in mixture_mf]"
   ]
  },
  {
   "cell_type": "code",
   "execution_count": 1,
   "metadata": {},
   "outputs": [],
   "source": [
    "def mix_repaired(*flows_data: tuple[float, list[float]]) -> list[float]:\n",
    "    if not flows_data:\n",
    "        return [.0]\n",
    "    \n",
    "    mixture_mf = [0 for _ in flows_data[0][1]]\n",
    "    mixture_flow_rate = sum(flow_data[0] for flow_data in flows_data)\n",
    "    for g, mf in flows_data:\n",
    "        for i, _ in enumerate(mf):\n",
    "            mixture_mf[i] += mf[i] * g\n",
    "    return [mf/mixture_flow_rate for mf in mixture_mf]"
   ]
  },
  {
   "cell_type": "code",
   "execution_count": 6,
   "metadata": {},
   "outputs": [
    {
     "name": "stdout",
     "output_type": "stream",
     "text": [
      "  0.1000\n",
      "  0.1325\n",
      "  0.1208\n",
      "  0.3468\n",
      "  0.1260\n",
      "  0.0825\n",
      "  0.0508\n",
      "  0.0408\n",
      "1.0\n"
     ]
    }
   ],
   "source": [
    "flow_rates = [200, 250, 120, 200]\n",
    "flow_mfs = [\n",
    "    [0.1, 0.1, 0.1, 0.4, 0.2, 0.05, 0.03, 0.02],\n",
    "    [0.1, 0.2, 0.1, 0.3, 0.1, 0.15, 0.03, 0.02],\n",
    "    [0.1, 0.1, 0.15, 0.35, 0.1, 0.05, 0.08, 0.07],\n",
    "    [0.1, 0.1, 0.15, 0.35, 0.1, 0.05, 0.08, 0.07],\n",
    "]\n",
    "\n",
    "flows_data = zip(flow_rates, flow_mfs)\n",
    "\n",
    "mixture_mf = mix_repaired(*flows_data)\n",
    "\n",
    "for mf in mixture_mf:\n",
    "    print(f'{mf:8.4f}')\n",
    "print(sum(mixture_mf))"
   ]
  },
  {
   "cell_type": "markdown",
   "metadata": {},
   "source": [
    "## Задание 3"
   ]
  },
  {
   "cell_type": "markdown",
   "metadata": {},
   "source": [
    "Абсолютная плотность газов и паров $\\left[\\mathrm{кг/м}^3\\right]$ вычисляется по формуле:\n",
    "\n",
    "\n",
    "$$\n",
    "\t\\rho = \\dfrac{M}{22.4} \\cdot \\dfrac{T_0 \\cdot P}{T \\cdot P_0}\n",
    "$$\n",
    "\n",
    "где $\\space \\space M$ - молярная масса газа или пара, $\\mathrm{[кг/кмоль]}$;\n",
    "\n",
    " $\\qquad T_0 = 273.15$- нормальная температура, $\\mathrm{[K]}$;\n",
    "\n",
    "$\\qquad T$ - температура, при которой определяется плотность, $\\mathrm{[K]}$;\n",
    "\n",
    "$\\qquad P_0 = 101325$ - нормальное давление, $\\mathrm{[Па]}$;\n",
    "\n",
    "$\\qquad P$ - давление, при котором определяется плотность, $\\mathrm{[Па]}$.\n",
    "\n",
    "\n",
    "Необходимо реализовать функцию для определения плотности метана $\\left(CH_4\\right)$ при $P = 200$ $\\mathrm{кПа}$ и температуре $T \\in \\left[200; 500\\right]$ с шагом $h = 50$ $\\mathrm{[K]}$."
   ]
  },
  {
   "cell_type": "code",
   "execution_count": 1,
   "metadata": {},
   "outputs": [],
   "source": [
    "def calculate_density(\n",
    "        m: float,\n",
    "        p: float,\n",
    "        t: float,\n",
    "        vm: float = 22.4,\n",
    "        t0: float = 273.15,\n",
    "        p0: float = 101325\n",
    ") -> float:\n",
    "    den = m / vm * t0 * p / (t * p0)\n",
    "    return den"
   ]
  },
  {
   "cell_type": "code",
   "execution_count": 5,
   "metadata": {},
   "outputs": [
    {
     "name": "stdout",
     "output_type": "stream",
     "text": [
      "При температуре 200 K плотность метана равна 1.9256 кг/м^3\n",
      "При температуре 250 K плотность метана равна 1.5404 кг/м^3\n",
      "При температуре 300 K плотность метана равна 1.2837 кг/м^3\n",
      "При температуре 350 K плотность метана равна 1.1003 кг/м^3\n",
      "При температуре 400 K плотность метана равна 0.9628 кг/м^3\n",
      "При температуре 450 K плотность метана равна 0.8558 кг/м^3\n",
      "При температуре 500 K плотность метана равна 0.7702 кг/м^3\n"
     ]
    }
   ],
   "source": [
    "t_start, t_stop, h = 200, 500, 50\n",
    "\n",
    "for t in range(t_start, t_stop+h, h):\n",
    "    den_ch4 = calculate_density(\n",
    "        m=16,\n",
    "        p=200000,\n",
    "        t=t\n",
    "    )\n",
    "    print(f'При температуре {t:3} K плотность метана равна {den_ch4:6.4f} кг/м^3')"
   ]
  },
  {
   "cell_type": "markdown",
   "metadata": {},
   "source": [
    "## Задание 4"
   ]
  },
  {
   "cell_type": "markdown",
   "metadata": {},
   "source": [
    "**Коэффициент сжимаемости** учитывает отклонение реального газа от уравнения состояния идеального газа.При точных расчетах коэффициент сжимаемости определяют по формуле:"
   ]
  },
  {
   "cell_type": "markdown",
   "metadata": {},
   "source": [
    "$$\n",
    "    z = 1 + \\dfrac{P_r}{T_r} \\cdot \\left(0.144 + 0.073 \\cdot \\omega - \\dfrac{0.33 - 0.46 \\cdot \\omega}{T_r} - \\dfrac{0.138 + 0.5 \\cdot \\omega}{T_r^2} - \\dfrac{0.012 + 0.097 \\cdot \\omega}{T_r^3} - \\dfrac{0.0073 \\cdot \\omega}{T_r^8}\\right)\n",
    "$$\n",
    "\n",
    "где $\\omega$ - ацентрический фактор, вычисляемый по уравнению:\n",
    "\n",
    "$$\n",
    "    \\omega = \\dfrac{3}{7} \\cdot \\left(\\dfrac{\\lg P_r - 5}{\\dfrac{T}{T_r \\cdot T_b}-1}\\right)-1\n",
    "$$\n",
    "\n",
    "$T_r$ - приведенная температура: $T_r = \\dfrac{T}{T_c}$\n",
    "\n",
    "$P_r = 0.2634$ - приведенное давление; $\\quad T_b = 272.65$ - температура кипения, $\\mathrm{[K]}$; $\\quad T_c = 425.15$, $\\mathrm{[K]}$."
   ]
  },
  {
   "cell_type": "markdown",
   "metadata": {},
   "source": [
    "Необходимо реализовать функции для рассчета фактора сжимаемости $z$ при $T \\in [200; 400]$ с шагом $h = 25$ $\\mathrm{[K]}$."
   ]
  },
  {
   "cell_type": "code",
   "execution_count": 9,
   "metadata": {},
   "outputs": [],
   "source": [
    "import numpy as np\n",
    "\n",
    "def calculate_tr(\n",
    "        tc: float,\n",
    "        t: float\n",
    ") -> float:\n",
    "    return t / tc\n",
    "\n",
    "def calculate_acentricity(\n",
    "        pr: float,\n",
    "        tb: float,\n",
    "        t: float,\n",
    "        tc: float | None = None,\n",
    "        tr: float | None = None\n",
    ") -> float:\n",
    "    tr = tr or calculate_tr(tc, t)\n",
    "    afactor = 3 / 7 * (np.log10(pr) - 5) / (t / (tr * tb) - 1) - 1\n",
    "    return afactor\n",
    "\n",
    "\n",
    "def z_equation(\n",
    "        pr: float,\n",
    "        tr: float,\n",
    "        acentricity: float,\n",
    ") -> float:\n",
    "    z = 1 + 1 + pr / tr * (\n",
    "        .144 + .073 * acentricity - (.33 - .46 * acentricity) / tr \n",
    "        - (.138 + .5 * acentricity) / tr ** 2 \n",
    "        - (.012 + .097 * acentricity) / tr ** 3\n",
    "        - .0073 * acentricity / tr ** 8\n",
    "    )\n",
    "    return z\n",
    "\n",
    "def calculate_z(\n",
    "        t: float,\n",
    "        tc: float,\n",
    "        tb: float,\n",
    "        pr: float\n",
    ") -> float:\n",
    "    tr = calculate_tr(tc, t)\n",
    "    acentricity = calculate_acentricity(\n",
    "        pr=pr, tb=tb, t=t, tr=tr,\n",
    "    )\n",
    "    z = z_equation(\n",
    "        pr=pr, tr=tr, acentricity=acentricity\n",
    "    )\n",
    "    return z"
   ]
  },
  {
   "cell_type": "code",
   "execution_count": 11,
   "metadata": {},
   "outputs": [
    {
     "name": "stdout",
     "output_type": "stream",
     "text": [
      "При температуре 200 K Z равен 16.5863\n",
      "При температуре 225 K Z равен 8.5219\n",
      "При температуре 250 K Z равен 5.3377\n",
      "При температуре 275 K Z равен 3.8628\n",
      "При температуре 300 K Z равен 3.0904\n",
      "При температуре 325 K Z равен 2.6475\n",
      "При температуре 350 K Z равен 2.3765\n",
      "При температуре 375 K Z равен 2.2030\n",
      "При температуре 400 K Z равен 2.0883\n"
     ]
    }
   ],
   "source": [
    "t_start, t_stop, h = 200, 400, 25\n",
    "\n",
    "for t in range(t_start, t_stop+h, h):\n",
    "    z = calculate_z(\n",
    "        t=t,\n",
    "        tc=425.15,\n",
    "        tb=272.65,\n",
    "        pr=.2634\n",
    "    )\n",
    "    print(f'При температуре {t:3} K Z равен {z:6.4f}')"
   ]
  },
  {
   "cell_type": "markdown",
   "metadata": {},
   "source": [
    "## Задание 5"
   ]
  },
  {
   "cell_type": "markdown",
   "metadata": {},
   "source": [
    "Реализуйте функцию, возвращающую словарь, в котором ключами будут имена $C_1$-$C_5$, а значениями другой словарь, содержащий молекулярную массу, темперутару и плотность соответствующих алканов. Общая формула для алканов: $C_nH_{2n+2}$."
   ]
  },
  {
   "cell_type": "markdown",
   "metadata": {},
   "source": [
    "1. Температуру кипения можно определить по следующей формуле:\n",
    "\n",
    "$$\n",
    "    T_b = 1090 - \\exp \\left(6.9955 - 0.11193 \\cdot N_C^{2/3}\\right)\n",
    "$$\n",
    "\n",
    "где $N_C$ - число атомов углерода в молекуле алкана.\n",
    "\n",
    "2. Формула для вычисления плотности:\n",
    "\n",
    "$$\n",
    "    \\rho = 1.07 - \\exp \\left(3.56073 - 2.93886 \\cdot MW^{0.1}\\right)\n",
    "$$\n",
    "\n",
    "где $MW$ - молекулярная масса алкана."
   ]
  },
  {
   "cell_type": "code",
   "execution_count": 12,
   "metadata": {},
   "outputs": [],
   "source": [
    "def get_alkanes_mw(nc: int) -> int:\n",
    "    mw = 12 * nc + 2 * nc + 2\n",
    "    return mw\n",
    "\n",
    "def get_tb(nc: float) -> float:\n",
    "    tb = 1090 - np.exp(6.9955 - .11193 * nc ** (2 / 3))\n",
    "    return tb\n",
    "\n",
    "\n",
    "def get_rho(mw: float) -> float:\n",
    "    rho = 1.07 - np.exp(3.56073 - 2.93886 * mw ** .1) \n",
    "    return rho\n",
    "\n",
    "\n",
    "def calculate_properties_for_alkanes(\n",
    "        max_nc: int\n",
    ") -> dict[str, dict[str, float]]:\n",
    "    nc_list = list(range(1, max_nc+1))\n",
    "    tb_list = [get_tb(nc) for nc in nc_list]\n",
    "    mw_list = [get_alkanes_mw(nc) for nc in nc_list]\n",
    "    rho_list = [get_rho(mw) for mw in mw_list]\n",
    "    names = ['C' + str(n) for n in nc_list]\n",
    "    nested_keys = ['mw', 'tb', 'rho']\n",
    "    component_properties = {}\n",
    "    properties = list(zip(mw_list, tb_list, rho_list))\n",
    "    for i, name in enumerate(names):\n",
    "        component_properties[name] = dict(zip(nested_keys, properties[i]))\n",
    "    return component_properties"
   ]
  },
  {
   "cell_type": "code",
   "execution_count": 13,
   "metadata": {},
   "outputs": [
    {
     "name": "stdout",
     "output_type": "stream",
     "text": [
      "C1 {'mw': 16, 'tb': 113.89515870858975, 'rho': 0.3417559246621025}\n",
      "C2 {'mw': 30, 'tb': 176.00765124564373, 'rho': 0.50374382536956}\n",
      "C3 {'mw': 44, 'tb': 225.04609396969124, 'rho': 0.5880575794529687}\n",
      "C4 {'mw': 58, 'tb': 266.59014842551005, 'rho': 0.6426337863150681}\n",
      "C5 {'mw': 72, 'tb': 303.01066681204486, 'rho': 0.6819127875116566}\n"
     ]
    }
   ],
   "source": [
    "component_properties = calculate_properties_for_alkanes(5)\n",
    "for name in component_properties:\n",
    "    print(name, component_properties[name])"
   ]
  },
  {
   "cell_type": "code",
   "execution_count": 14,
   "metadata": {},
   "outputs": [
    {
     "name": "stdout",
     "output_type": "stream",
     "text": [
      "C1\n",
      "mw   16.0000\n",
      "tb  113.8952\n",
      "rho   0.3418\n",
      "C2\n",
      "mw   30.0000\n",
      "tb  176.0077\n",
      "rho   0.5037\n",
      "C3\n",
      "mw   44.0000\n",
      "tb  225.0461\n",
      "rho   0.5881\n",
      "C4\n",
      "mw   58.0000\n",
      "tb  266.5901\n",
      "rho   0.6426\n",
      "C5\n",
      "mw   72.0000\n",
      "tb  303.0107\n",
      "rho   0.6819\n"
     ]
    }
   ],
   "source": [
    "for name in component_properties:\n",
    "    print(name)\n",
    "    properties = component_properties[name]\n",
    "    for property in properties:\n",
    "        value = properties[property]\n",
    "        print(f'{property:3s} {value:8.4f}')"
   ]
  },
  {
   "cell_type": "code",
   "execution_count": null,
   "metadata": {},
   "outputs": [],
   "source": []
  }
 ],
 "metadata": {
  "kernelspec": {
   "display_name": "Python 3 (ipykernel)",
   "language": "python",
   "name": "python3"
  },
  "language_info": {
   "codemirror_mode": {
    "name": "ipython",
    "version": 3
   },
   "file_extension": ".py",
   "mimetype": "text/x-python",
   "name": "python",
   "nbconvert_exporter": "python",
   "pygments_lexer": "ipython3",
   "version": "3.11.5"
  }
 },
 "nbformat": 4,
 "nbformat_minor": 2
}
