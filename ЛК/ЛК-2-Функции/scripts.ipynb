{
 "cells": [
  {
   "cell_type": "code",
   "execution_count": 2,
   "metadata": {},
   "outputs": [
    {
     "name": "stdout",
     "output_type": "stream",
     "text": [
      "x = 50\n",
      "Replace x to 2\n",
      "x = 50\n"
     ]
    }
   ],
   "source": [
    "x = 50\n",
    "\n",
    "\n",
    "def func(x):\n",
    "    print(f'x = {x}')\n",
    "    x = 2\n",
    "    print(f'Replace x to {x}')\n",
    "\n",
    "\n",
    "func(x)\n",
    "print(f'x = {x}')"
   ]
  },
  {
   "cell_type": "code",
   "execution_count": 3,
   "metadata": {},
   "outputs": [
    {
     "name": "stdout",
     "output_type": "stream",
     "text": [
      "<function maker.<locals>.action at 0x000001426A8849A0>\n"
     ]
    }
   ],
   "source": [
    "def maker(n):\n",
    "    \n",
    "    def action(x):\n",
    "        return x ** n  # action сохраняет значение n\n",
    "    \n",
    "    return action\n",
    "\n",
    "f = maker(3)\n",
    "print(f)"
   ]
  },
  {
   "cell_type": "code",
   "execution_count": 8,
   "metadata": {},
   "outputs": [],
   "source": [
    "def calculate_flow_density(x: list[float], d: list[float]) -> float:\n",
    "    \"\"\"\n",
    "    Calculates density of material flow\n",
    "\n",
    "    Parameters\n",
    "    ----------\n",
    "    x : list[float]\n",
    "        A list of components mass fractions.\n",
    "    d : list[float]\n",
    "        A list of components densities in kg/m^3.\n",
    "\n",
    "    Returns\n",
    "    -------\n",
    "    float\n",
    "        Flow density [kg/m^3].\n",
    "\n",
    "    \"\"\"\n",
    "    density = 0\n",
    "\n",
    "    for i in range(len(x)):\n",
    "        density += x[i] / d[i]\n",
    "    \n",
    "    return density ** -1"
   ]
  },
  {
   "cell_type": "code",
   "execution_count": 9,
   "metadata": {},
   "outputs": [
    {
     "data": {
      "text/plain": [
       "339.1655450874831"
      ]
     },
     "execution_count": 9,
     "metadata": {},
     "output_type": "execute_result"
    }
   ],
   "source": [
    "x = [.4, .4, .1, .1]\n",
    "d = [300, 350, 400, 450]\n",
    "\n",
    "calculate_flow_density(x, d)"
   ]
  },
  {
   "cell_type": "code",
   "execution_count": 1,
   "metadata": {},
   "outputs": [],
   "source": [
    "# Аргумент x обязательный, y и z необязательные\n",
    "def f(x: int, y: int = 1, z: int = 2) -> tuple[int]: \n",
    "    return x, y, z "
   ]
  },
  {
   "cell_type": "code",
   "execution_count": 2,
   "metadata": {},
   "outputs": [
    {
     "data": {
      "text/plain": [
       "(1, 1, 2)"
      ]
     },
     "execution_count": 2,
     "metadata": {},
     "output_type": "execute_result"
    }
   ],
   "source": [
    "f(1)"
   ]
  },
  {
   "cell_type": "code",
   "execution_count": 1,
   "metadata": {},
   "outputs": [],
   "source": [
    "def f(*args) -> tuple:\n",
    "    return args"
   ]
  },
  {
   "cell_type": "code",
   "execution_count": 3,
   "metadata": {},
   "outputs": [
    {
     "name": "stdout",
     "output_type": "stream",
     "text": [
      "()\n"
     ]
    }
   ],
   "source": [
    "print(f())"
   ]
  },
  {
   "cell_type": "code",
   "execution_count": 4,
   "metadata": {},
   "outputs": [
    {
     "name": "stdout",
     "output_type": "stream",
     "text": [
      "(10,)\n"
     ]
    }
   ],
   "source": [
    "print(f(10))"
   ]
  },
  {
   "cell_type": "code",
   "execution_count": 5,
   "metadata": {},
   "outputs": [],
   "source": [
    "def f(x: int, *args, **kwargs) -> tuple[int, tuple, dict]:\n",
    "    return x, args, kwargs"
   ]
  },
  {
   "cell_type": "code",
   "execution_count": 6,
   "metadata": {},
   "outputs": [
    {
     "data": {
      "text/plain": [
       "(1, (2, 3), {'a': 10, 'b': 20})"
      ]
     },
     "execution_count": 6,
     "metadata": {},
     "output_type": "execute_result"
    }
   ],
   "source": [
    "f(1, 2, 3, a=10, b=20)"
   ]
  },
  {
   "cell_type": "code",
   "execution_count": 1,
   "metadata": {},
   "outputs": [
    {
     "name": "stdout",
     "output_type": "stream",
     "text": [
      "(10, 1.5, 2, 'is good')\n"
     ]
    }
   ],
   "source": [
    "def f(a: int, b: float, c: int, d: str) -> tuple:\n",
    "      return a, b, c, d\n",
    "\n",
    "args = 10, 1.5, 2, 'is good'\n",
    "\n",
    "print(f(*args))  # (10, 1.5, 2, 'is good')"
   ]
  },
  {
   "cell_type": "code",
   "execution_count": 2,
   "metadata": {},
   "outputs": [
    {
     "name": "stdout",
     "output_type": "stream",
     "text": [
      "(15, 2.36, 25, '')\n"
     ]
    }
   ],
   "source": [
    "params = {'a': 15, 'b': 2.36, 'c': 25, 'd': ''}\n",
    "print(f(**params))  # (15, 2.36, 25, '')"
   ]
  },
  {
   "cell_type": "code",
   "execution_count": 4,
   "metadata": {},
   "outputs": [
    {
     "name": "stdout",
     "output_type": "stream",
     "text": [
      "3\n"
     ]
    }
   ],
   "source": [
    "f = lambda x, y: x + y\n",
    "print(f(1, 2))  # 3"
   ]
  },
  {
   "cell_type": "code",
   "execution_count": null,
   "metadata": {},
   "outputs": [],
   "source": []
  }
 ],
 "metadata": {
  "kernelspec": {
   "display_name": "Python 3",
   "language": "python",
   "name": "python3"
  },
  "language_info": {
   "codemirror_mode": {
    "name": "ipython",
    "version": 3
   },
   "file_extension": ".py",
   "mimetype": "text/x-python",
   "name": "python",
   "nbconvert_exporter": "python",
   "pygments_lexer": "ipython3",
   "version": "3.11.5"
  }
 },
 "nbformat": 4,
 "nbformat_minor": 2
}
