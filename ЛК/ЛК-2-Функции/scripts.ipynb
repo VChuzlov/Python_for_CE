{
 "cells": [
  {
   "cell_type": "code",
   "execution_count": 2,
   "metadata": {},
   "outputs": [
    {
     "name": "stdout",
     "output_type": "stream",
     "text": [
      "x = 50\n",
      "Replace x to 2\n",
      "x = 50\n"
     ]
    }
   ],
   "source": [
    "x = 50\n",
    "\n",
    "\n",
    "def func(x):\n",
    "    print(f'x = {x}')\n",
    "    x = 2\n",
    "    print(f'Replace x to {x}')\n",
    "\n",
    "\n",
    "func(x)\n",
    "print(f'x = {x}')"
   ]
  },
  {
   "cell_type": "code",
   "execution_count": 3,
   "metadata": {},
   "outputs": [
    {
     "name": "stdout",
     "output_type": "stream",
     "text": [
      "<function maker.<locals>.action at 0x000001426A8849A0>\n"
     ]
    }
   ],
   "source": [
    "def maker(n):\n",
    "    \n",
    "    def action(x):\n",
    "        return x ** n  # action сохраняет значение n\n",
    "    \n",
    "    return action\n",
    "\n",
    "f = maker(3)\n",
    "print(f)"
   ]
  },
  {
   "cell_type": "code",
   "execution_count": 8,
   "metadata": {},
   "outputs": [],
   "source": [
    "def calculate_flow_density(x: list[float], d: list[float]) -> float:\n",
    "    \"\"\"\n",
    "    Calculates density of material flow\n",
    "\n",
    "    Parameters\n",
    "    ----------\n",
    "    x : list[float]\n",
    "        A list of components mass fractions.\n",
    "    d : list[float]\n",
    "        A list of components densities in kg/m^3.\n",
    "\n",
    "    Returns\n",
    "    -------\n",
    "    float\n",
    "        Flow density [kg/m^3].\n",
    "\n",
    "    \"\"\"\n",
    "    density = 0\n",
    "\n",
    "    for i in range(len(x)):\n",
    "        density += x[i] / d[i]\n",
    "    \n",
    "    return density ** -1"
   ]
  },
  {
   "cell_type": "code",
   "execution_count": 9,
   "metadata": {},
   "outputs": [
    {
     "data": {
      "text/plain": [
       "339.1655450874831"
      ]
     },
     "execution_count": 9,
     "metadata": {},
     "output_type": "execute_result"
    }
   ],
   "source": [
    "x = [.4, .4, .1, .1]\n",
    "d = [300, 350, 400, 450]\n",
    "\n",
    "calculate_flow_density(x, d)"
   ]
  },
  {
   "cell_type": "code",
   "execution_count": null,
   "metadata": {},
   "outputs": [],
   "source": []
  }
 ],
 "metadata": {
  "kernelspec": {
   "display_name": "Python 3",
   "language": "python",
   "name": "python3"
  },
  "language_info": {
   "codemirror_mode": {
    "name": "ipython",
    "version": 3
   },
   "file_extension": ".py",
   "mimetype": "text/x-python",
   "name": "python",
   "nbconvert_exporter": "python",
   "pygments_lexer": "ipython3",
   "version": "3.11.5"
  }
 },
 "nbformat": 4,
 "nbformat_minor": 2
}
