{
 "cells": [
  {
   "cell_type": "markdown",
   "metadata": {},
   "source": [
    "# Лабораторная работа № 1 - Функции"
   ]
  },
  {
   "cell_type": "markdown",
   "metadata": {},
   "source": [
    "# Пример"
   ]
  },
  {
   "cell_type": "markdown",
   "metadata": {},
   "source": [
    "По имеющимся исходным данным определите состав потока в объемных долях, используя\n",
    "следующию формулу:\n",
    "\n",
    "$$\n",
    "    \\varphi_i = \\dfrac{\\dfrac{\\omega _i}{\\rho _i}}{\\sum \\limits _{i=1}^n\\dfrac{\\omega _i}{\\rho _i}}\n",
    "$$\n",
    "\n",
    "где $\\varphi _i$ -  объемная доля $i$-го компонента; $\\omega _i$ -  массовая доля $i$-го компонента; $\\rho _i$ - плотность $i$-го компонента; $n$ - число компонентов в системе; $i$ - индекс компонента в системе."
   ]
  },
  {
   "cell_type": "markdown",
   "metadata": {},
   "source": [
    "### Исходные данные\n",
    "\n",
    "|Параметр|$C_1$|$C_2$|$C_3$|$iC_4$|$nC_4$|$iC_5$|$nC_5$|$nC_6$|\n",
    "|:-|:-:|:-:|:-:|:-:|:-:|:-:|:-:|:-:|\n",
    "|$\\omega _i$|0.1|0.1|0.1|0.4|0.2|0.05|0.03|0.02|\n",
    "|$\\rho _i$, г/см$^3$|0.416 |0.546|0.585|0.5510|0.6|0.616|0.6262|0.6594|\n",
    "|$M _i$, г/моль|16 |30|44|58|58|72|72|86|\n",
    "\n",
    "<br>\n",
    "\n",
    "> Вычисления необходимо реализовать в **виде функции**."
   ]
  },
  {
   "cell_type": "markdown",
   "metadata": {},
   "source": [
    "### Решение"
   ]
  },
  {
   "cell_type": "code",
   "execution_count": 5,
   "metadata": {},
   "outputs": [],
   "source": [
    "from __future__ import annotations"
   ]
  },
  {
   "cell_type": "code",
   "execution_count": 2,
   "metadata": {},
   "outputs": [],
   "source": [
    "def mass_to_volume_fractions(\n",
    "    mass_fractions: list[float],\n",
    "    densities: list[float]\n",
    ") -> list[float]:\n",
    "\n",
    "    mf_by_rho = [mf / rho for mf, rho in zip(mass_fractions, densities)]\n",
    "    s = sum(mf_by_rho)\n",
    "\n",
    "    return [x / s for x in mf_by_rho]"
   ]
  },
  {
   "cell_type": "code",
   "execution_count": 3,
   "metadata": {},
   "outputs": [
    {
     "name": "stdout",
     "output_type": "stream",
     "text": [
      "  0.1326\n",
      "  0.1010\n",
      "  0.0943\n",
      "  0.4004\n",
      "  0.1838\n",
      "  0.0448\n",
      "  0.0264\n",
      "  0.0167\n",
      "1.0\n"
     ]
    }
   ],
   "source": [
    "mf = [.1, .1, .1, .4, .2, .05, .03, .02]\n",
    "rho = [.416, .546, .585, .5510, .6, .616, .6262, .6594]\n",
    "\n",
    "vf = mass_to_volume_fractions(\n",
    "    mass_fractions=mf, densities=rho)\n",
    "\n",
    "for v in vf:\n",
    "    print(f'{v:8.4f}')\n",
    "\n",
    "print(sum(vf))"
   ]
  },
  {
   "cell_type": "markdown",
   "metadata": {},
   "source": [
    "## Задание 1"
   ]
  },
  {
   "cell_type": "markdown",
   "metadata": {},
   "source": [
    "Используя исходные данные из примера, рассчитайте, реализовав соответствующие функции:"
   ]
  },
  {
   "cell_type": "markdown",
   "metadata": {},
   "source": [
    "1. Состав потока в мольных долях:\n",
    "\n",
    "$$\n",
    "    \\chi _i = \\dfrac{\\dfrac{\\omega _i}{M_i}}{\\sum \\limits_{i=1}^{n}\\dfrac{\\omega _i}{M_i}}\n",
    "$$\n",
    "\n",
    "где $\\chi _i$ - мольная доля $i$-го компонента; $\\omega _i$ - массовая доля $i$-го компонента; $M_i$ - молярная масса $i$-го компонента; $n$ - число компонентов в системе; $i$ - индекс компонента в системе.\n",
    "\n",
    "2. Плотность потока:\n",
    "\n",
    "$$\n",
    "    \\rho = \\dfrac{1}{\\sum \\limits_{i=1}^{n}\\dfrac{\\omega_i}{\\rho_i}}\n",
    "$$\n",
    "\n",
    "где $\\rho$ - плотность потока; $\\omega _i$ - массовая доля $i$-го компонента; $\\rho _i$ - плотность $i$-го компонента; $n$ - число компонентов в системе; $i$ - индекс компонента в системе.\n",
    "\n",
    "3. Среднюю молекулярную массу потока:\n",
    "\n",
    "$$\n",
    "    m = \\dfrac{1}{\\sum \\limits_{i=1}^{n}\\dfrac{\\omega_i}{M_i}}\n",
    "$$\n",
    "\n",
    "где $m$ - средняя молекулярная масса потока; $\\omega _i$ - массовая доля $i$-го компонента; $M_i$ - молярная масса $i$-го компонента; $n$ - число компонентов в системе; $i$ - индекс компонента в системе."
   ]
  },
  {
   "cell_type": "markdown",
   "metadata": {},
   "source": [
    "**Решение:**"
   ]
  },
  {
   "cell_type": "code",
   "execution_count": 6,
   "metadata": {},
   "outputs": [],
   "source": [
    "def calc_mole_fracs(\n",
    "    mass_fractions: list[float],\n",
    "    densities: list[float],\n",
    "    mms: list[float]\n",
    ") -> list[float]:\n",
    "    \n",
    "    mass_frac_by_mms = [mf / mm for mf, mm in zip(mass_fractions, mms)]\n",
    "    s = sum(mass_frac_by_mms)\n",
    "    \n",
    "    return [x / s for x in mass_frac_by_mms]\n",
    "\n",
    "def calc_dens(\n",
    "    mass_fractions: list[float],\n",
    "    densities: list[float]\n",
    ") -> list[float]:\n",
    "    \n",
    "    return 1/sum([mf / dens for mf, dens in zip(mass_fractions, densities)])\n",
    "\n",
    "\n",
    "def calc_mm_mix(\n",
    "    mass_fractions: list[float],\n",
    "    mms: list[float]\n",
    ") -> list[float]:\n",
    "    \n",
    "    return 1/sum([mf / mm for mf, mm in zip(mass_fractions, mms)])"
   ]
  },
  {
   "cell_type": "code",
   "execution_count": 8,
   "metadata": {},
   "outputs": [
    {
     "name": "stdout",
     "output_type": "stream",
     "text": [
      "Мольные доли:\n",
      "0.2655\n",
      "0.1416\n",
      "0.0965\n",
      "0.2929\n",
      "0.1465\n",
      "0.0295\n",
      "0.0177\n",
      "0.0099\n",
      "Сумма = 1.0000\n",
      "Плотность 0.5515 кг/м3\n",
      "Молекулярная масса = 42.47 г/моль\n"
     ]
    }
   ],
   "source": [
    "mf = [.1, .1, .1, .4, .2, .05, .03, .02]\n",
    "rho = [.416, .546, .585, .5510, .6, .616, .6262, .6594]\n",
    "mms = [16, 30, 44, 58, 58, 72, 72, 86]\n",
    "\n",
    "mole_fracs = calc_mole_fracs(mf, rho, mms)\n",
    "\n",
    "print('Мольные доли:')\n",
    "for mole_frac in mole_fracs:\n",
    "    print(f'{mole_frac:.4f}')\n",
    "print(f'Сумма = {sum(mole_fracs):.4f}')\n",
    "\n",
    "dens_mix = calc_dens(mf, rho)\n",
    "print(f'Плотность {dens_mix:.4f} кг/м3')\n",
    "\n",
    "mm_mix = calc_mm_mix(mf, mms)\n",
    "print(f'Молекулярная масса = {mm_mix:.2f} г/моль')"
   ]
  },
  {
   "cell_type": "markdown",
   "metadata": {},
   "source": [
    "## Задание 2"
   ]
  },
  {
   "cell_type": "markdown",
   "metadata": {},
   "source": [
    "Пусть на смешение поступают материальные потоки следующего состава (массовые доли):\n",
    "\n",
    "|Поток|$C_1$|$C_2$|$C_3$|$iC_4$|$nC_4$|$iC_5$|$nC_5$|$C_6$|\n",
    "|-|-|-|-|-|-|-|-|-|\n",
    "|1|0.1|0.1|0.1|0.4|0.2|0.05|0.03|0.02|\n",
    "|2|0.1|0.2|0.1|0.3|0.1|0.15|0.03|0.02|\n",
    "|3|0.1|0.1|0.15|0.35|0.1|0.05|0.08|0.07|\n",
    "\n",
    "Расходы потоков $200$, $250$ и $120$ кг/ч, соответственно. Необходимо рассчитать состав итогового потока в массовых долях, реализовав соответствующую функцию."
   ]
  },
  {
   "cell_type": "markdown",
   "metadata": {},
   "source": [
    "Состав смесевого потока можно найти следующим образом:\n",
    "\n",
    "$$\n",
    "\t\\omega_i = \\dfrac{\\sum\\limits_{j=1}^{n}G_j \\cdot \\omega_{i, j}}{\\sum\\limits_{j=1}^{n}G_j}\n",
    "$$\n",
    "\n",
    "где $\\omega_i$ - массовая доля $i$-го компонента в смесевом потоке; $\\omega_{i, j}$ - массовая доля $i$-го компонента в $j$-ом потоке; $G_j$ - массовый расход $j$-го потока; $j$ - индекс потока; $i$ - индекс компонента в системе; $n$ - число потоков, подаваемых на смешение."
   ]
  },
  {
   "cell_type": "markdown",
   "metadata": {},
   "source": [
    "**Решение:**"
   ]
  },
  {
   "cell_type": "code",
   "execution_count": 48,
   "metadata": {},
   "outputs": [],
   "source": [
    "def calc_mix_comp(\n",
    "    comp_flows: list[list[float]],\n",
    "    flows: list[float]\n",
    ") -> list[float]:\n",
    "    \n",
    "    comp_partial_flows = [0 for i in range(len(comp_flows[0]))]\n",
    "    \n",
    "    for flow_num in range(len(flows)):\n",
    "         for comp_num in range(len(comp_flows[0])):\n",
    "            comp_partial_flows[comp_num] += (flows[flow_num] * comp_flows[flow_num][comp_num])\n",
    "    \n",
    "    s = sum(flows)\n",
    "    \n",
    "    return [comp_part_flow / s for comp_part_flow in comp_partial_flows]"
   ]
  },
  {
   "cell_type": "code",
   "execution_count": 50,
   "metadata": {},
   "outputs": [
    {
     "name": "stdout",
     "output_type": "stream",
     "text": [
      "Массовые доли компонентов в смеси:\n",
      "0.1000\n",
      "0.1439\n",
      "0.1105\n",
      "0.3456\n",
      "0.1351\n",
      "0.0939\n",
      "0.0405\n",
      "0.0305\n",
      "Сумма = 1.0000\n"
     ]
    }
   ],
   "source": [
    "comp_flows = [[0.1, 0.1, 0.1, 0.4, 0.2, 0.05, 0.03, 0.02],\n",
    "    [0.1, 0.2, 0.1, 0.3, 0.1, 0.15, 0.03, 0.02],\n",
    "    [0.1, 0.1, 0.15, 0.35, 0.1, 0.05, 0.08, 0.07]]\n",
    "\n",
    "flows = [200, 250, 120]\n",
    "\n",
    "mix_comp = calc_mix_comp(comp_flows, flows)\n",
    "print('Массовые доли компонентов в смеси:')\n",
    "for comp in mix_comp:\n",
    "    print(f'{comp:.4f}')\n",
    "print(f'Сумма = {sum(mix_comp):.4f}')"
   ]
  },
  {
   "cell_type": "markdown",
   "metadata": {},
   "source": [
    "## Задание 3"
   ]
  },
  {
   "cell_type": "markdown",
   "metadata": {},
   "source": [
    "Абсолютная плотность газов и паров $\\left[\\mathrm{кг/м}^3\\right]$ вычисляется по формуле:\n",
    "\n",
    "\n",
    "$$\n",
    "\t\\rho = \\dfrac{M}{22.4} \\cdot \\dfrac{T_0 \\cdot P}{T \\cdot P_0}\n",
    "$$\n",
    "\n",
    "где $\\space \\space M$ - молярная масса газа или пара, $\\mathrm{[кг/кмоль]}$;\n",
    "\n",
    " $\\qquad T_0 = 273.15$- нормальная температура, $\\mathrm{[K]}$;\n",
    "\n",
    "$\\qquad T$ - температура, при которой определяется плотность, $\\mathrm{[K]}$;\n",
    "\n",
    "$\\qquad P_0 = 101325$ - нормальное давление, $\\mathrm{[Па]}$;\n",
    "\n",
    "$\\qquad P$ - давление, при котором определяется плотность, $\\mathrm{[Па]}$.\n",
    "\n",
    "\n",
    "Необходимо реализовать функцию для определения плотности метана $\\left(CH_4\\right)$ при $P = 200$ $\\mathrm{кПа}$ и температуре $T \\in \\left[200; 500\\right]$ с шагом $h = 50$ $\\mathrm{[K]}$."
   ]
  },
  {
   "cell_type": "markdown",
   "metadata": {},
   "source": [
    "**Решение:**"
   ]
  },
  {
   "cell_type": "code",
   "execution_count": 31,
   "metadata": {},
   "outputs": [],
   "source": [
    "def calc_rho_in_t_range(\n",
    "    gas_mole_mass: float,\n",
    "    press: float,\n",
    "    t_range: list[float],\n",
    "    t_step: float\n",
    ") -> float:\n",
    "    \n",
    "    tn = 273.15\n",
    "    pn = 101325\n",
    "    rho_list = []\n",
    "    t_calc_range = []\n",
    "    dens = []\n",
    "    \n",
    "    t_calc_range.append(t_range[0])\n",
    "    number_intervals = int((t_range[1] - t_range[0]) / t_step)\n",
    "    for i in range(number_intervals):\n",
    "        t_calc_range.append(t_step + t_calc_range[-1])\n",
    "    if t_calc_range[-1] < t_range[1]:\n",
    "        t_calc_range.append(t_range[1])\n",
    "    for t in t_calc_range:\n",
    "        rho = gas_mole_mass / 22.4 * tn * press / pn / t\n",
    "        dens.append(rho)\n",
    "\n",
    "    \n",
    "    return t_calc_range, dens, number_intervals"
   ]
  },
  {
   "cell_type": "code",
   "execution_count": 44,
   "metadata": {},
   "outputs": [
    {
     "name": "stdout",
     "output_type": "stream",
     "text": [
      "T = 200.0 K\tПлотность = 1.926 кг/м3\n",
      "T = 250.0 K\tПлотность = 1.540 кг/м3\n",
      "T = 300.0 K\tПлотность = 1.284 кг/м3\n",
      "T = 350.0 K\tПлотность = 1.100 кг/м3\n",
      "T = 400.0 K\tПлотность = 0.963 кг/м3\n",
      "T = 450.0 K\tПлотность = 0.856 кг/м3\n",
      "T = 500.0 K\tПлотность = 0.770 кг/м3\n"
     ]
    }
   ],
   "source": [
    "methane_mm = 16\n",
    "press = 200 * 1000\n",
    "t_range = [200, 500]\n",
    "h = 50\n",
    "\n",
    "t_points, dens_points, nn = calc_rho_in_t_range(methane_mm, press, t_range, h)\n",
    "for i in range(len(t_points)):\n",
    "    print(f'T = {t_points[i]:.1f} K\\tПлотность = {dens_points[i]:.3f} кг/м3')"
   ]
  },
  {
   "cell_type": "markdown",
   "metadata": {},
   "source": [
    "## Задание 4"
   ]
  },
  {
   "cell_type": "markdown",
   "metadata": {},
   "source": [
    "**Коэффициент сжимаемости** учитывает отклонение реального газа от уравнения состояния идеального газа.При точных расчетах коэффициент сжимаемости определяют по формуле:"
   ]
  },
  {
   "cell_type": "markdown",
   "metadata": {},
   "source": [
    "$$\n",
    "    z = 1 + \\dfrac{P_r}{T_r} \\cdot \\left(0.144 + 0.073 \\cdot \\omega - \\dfrac{0.33 - 0.46 \\cdot \\omega}{T_r} - \\dfrac{0.138 + 0.5 \\cdot \\omega}{T_r^2} - \\dfrac{0.012 + 0.097 \\cdot \\omega}{T_r^3} - \\dfrac{0.0073 \\cdot \\omega}{T_r^8}\\right)\n",
    "$$\n",
    "\n",
    "где $\\omega$ - ацентрический фактор, вычисляемый по уравнению:\n",
    "\n",
    "$$\n",
    "    \\omega = \\dfrac{3}{7} \\cdot \\left(\\dfrac{\\lg P_r - 5}{\\dfrac{T}{T_r \\cdot T_b}-1}\\right)-1\n",
    "$$\n",
    "\n",
    "$T_r$ - приведенная температура: $T_r = \\dfrac{T}{T_c}$\n",
    "\n",
    "$P_r = 0.2634$ - приведенное давление; $\\quad T_b = 272.65$ - температура кипения, $\\mathrm{[K]}$; $\\quad T_c = 425.15$, $\\mathrm{[K]}$."
   ]
  },
  {
   "cell_type": "markdown",
   "metadata": {},
   "source": [
    "Необходимо реализовать функции для рассчета фактора сжимаемости $z$ при $T \\in [200; 400]$ с шагом $h = 25$ $\\mathrm{[K]}$."
   ]
  },
  {
   "cell_type": "markdown",
   "metadata": {},
   "source": [
    "**Решение:**"
   ]
  },
  {
   "cell_type": "code",
   "execution_count": 47,
   "metadata": {},
   "outputs": [],
   "source": [
    "from math import *"
   ]
  },
  {
   "cell_type": "code",
   "execution_count": 81,
   "metadata": {},
   "outputs": [],
   "source": [
    "def calc_z(\n",
    "    t_range: list[float],\n",
    "    t_step: float\n",
    ") -> float:\n",
    "    \n",
    "    pr = 0.2634\n",
    "    tb = 272.65\n",
    "    tc = 425.15\n",
    "    \n",
    "    t_calc_range = []\n",
    "    z_list = []\n",
    "\n",
    "    t_calc_range.append(t_range[0])\n",
    "    number_intervals = int((t_range[1] - t_range[0]) / t_step)\n",
    "    for i in range(number_intervals):\n",
    "        t_calc_range.append(t_step + t_calc_range[-1])\n",
    "    if t_calc_range[-1] < t_range[1]:\n",
    "        t_calc_range.append(t_range[1])\n",
    "    \n",
    "    for t in t_calc_range:\n",
    "        tr = t / tc\n",
    "        w = 3 / 7 * (log10(pr) - 5) / (t / tr / tb - 1) - 1\n",
    "        z = 1 + pr / tr * (0.144 + 0.073 * w - (0.33 - 0.46 * w) / tr - (0.138 + 0.5 * w) / tr**2 -\n",
    "                          (0.012 + 0.097 * w) / tr**3 - 0.0073 * w / tr**8)\n",
    "        z_list.append(z)\n",
    "    \n",
    "    return t_calc_range, z_list"
   ]
  },
  {
   "cell_type": "code",
   "execution_count": 82,
   "metadata": {
    "scrolled": true
   },
   "outputs": [
    {
     "name": "stdout",
     "output_type": "stream",
     "text": [
      "T = 200.00 K\tz = 15.586\n",
      "T = 225.00 K\tz = 7.522\n",
      "T = 250.00 K\tz = 4.338\n",
      "T = 275.00 K\tz = 2.863\n",
      "T = 300.00 K\tz = 2.090\n",
      "T = 325.00 K\tz = 1.647\n",
      "T = 350.00 K\tz = 1.377\n",
      "T = 375.00 K\tz = 1.203\n",
      "T = 400.00 K\tz = 1.088\n"
     ]
    }
   ],
   "source": [
    "t_range = [200, 400]\n",
    "h = 25\n",
    "t_points, z_points= calc_z(t_range, h)\n",
    "\n",
    "for i in range(len(t_points)):\n",
    "    print(f'T = {t_points[i]:.2f} K\\tz = {z_points[i]:.3f}')"
   ]
  },
  {
   "cell_type": "markdown",
   "metadata": {},
   "source": [
    "## Задание 5"
   ]
  },
  {
   "cell_type": "markdown",
   "metadata": {},
   "source": [
    "Реализуйте функцию, возвращающую словарь, в котором ключами будут имена $C_1$-$C_5$, а значениями другой словарь, содержащий молекулярную массу, темперутару и плотность соответствующих алканов. Общая формула для алканов: $C_nH_{2n+2}$."
   ]
  },
  {
   "cell_type": "markdown",
   "metadata": {},
   "source": [
    "1. Температуру кипения можно определить по следующей формуле:\n",
    "\n",
    "$$\n",
    "    T_b = 1090 - \\exp \\left(6.9955 - 0.11193 \\cdot N_C^{2/3}\\right)\n",
    "$$\n",
    "\n",
    "где $N_C$ - число атомов углерода в молекуле алкана.\n",
    "\n",
    "2. Формула для вычисления плотности:\n",
    "\n",
    "$$\n",
    "    \\rho = 1.07 - \\exp \\left(3.56073 - 2.93886 \\cdot MW^{0.1}\\right)\n",
    "$$\n",
    "\n",
    "где $MW$ - молекулярная масса алкана."
   ]
  },
  {
   "cell_type": "markdown",
   "metadata": {},
   "source": [
    "**Решение:**"
   ]
  },
  {
   "cell_type": "code",
   "execution_count": 108,
   "metadata": {},
   "outputs": [],
   "source": [
    "def make_dict(\n",
    "    names: list[str]\n",
    ") -> dict[dict[list]]:\n",
    "    \n",
    "    c_atom_numbers = [int(name[1:]) for name in names]\n",
    "    mms = [c_atom_number * 14 + 2 for c_atom_number in c_atom_numbers]\n",
    "    boiling_temps = [1090 - exp(6.9955 - 0.11193 * c_atom_number) for c_atom_number in c_atom_numbers]\n",
    "    rhos = [1.07 - exp(3.56073 - 2.93886 * mm**0.1) for mm in mms]\n",
    "    \n",
    "    res_dict = {names[i]: {'MW': mms[i], 'Tb': boiling_temps[i],\n",
    "                           'rho': rhos[i]} for i in range(len(names))}\n",
    "    \n",
    "    return res_dict"
   ]
  },
  {
   "cell_type": "code",
   "execution_count": 109,
   "metadata": {},
   "outputs": [
    {
     "data": {
      "text/plain": [
       "{'C1': {'MW': 16, 'Tb': 113.89515870858975, 'rho': 0.3417559246621025},\n",
       " 'C2': {'MW': 30, 'Tb': 217.2579821220337, 'rho': 0.50374382536956},\n",
       " 'C3': {'MW': 44, 'Tb': 309.67538982596864, 'rho': 0.5880575794529687},\n",
       " 'C4': {'MW': 58, 'Tb': 392.30642644686316, 'rho': 0.6426337863150681},\n",
       " 'C5': {'MW': 72, 'Tb': 466.18740171633976, 'rho': 0.6819127875116566},\n",
       " 'C6': {'MW': 86, 'Tb': 532.244887256693, 'rho': 0.7120372497072657},\n",
       " 'C7': {'MW': 100, 'Tb': 591.3073370957468, 'rho': 0.7361452322267332}}"
      ]
     },
     "execution_count": 109,
     "metadata": {},
     "output_type": "execute_result"
    }
   ],
   "source": [
    "alkanes = ['C1', 'C2', 'C3', 'C4', 'C5', 'C6', 'C7']\n",
    "res_dict = make_dict(alkanes)\n",
    "res_dict"
   ]
  }
 ],
 "metadata": {
  "kernelspec": {
   "display_name": "Python 3",
   "language": "python",
   "name": "python3"
  },
  "language_info": {
   "codemirror_mode": {
    "name": "ipython",
    "version": 3
   },
   "file_extension": ".py",
   "mimetype": "text/x-python",
   "name": "python",
   "nbconvert_exporter": "python",
   "pygments_lexer": "ipython3",
   "version": "3.8.5"
  },
  "toc": {
   "base_numbering": 1,
   "nav_menu": {},
   "number_sections": true,
   "sideBar": true,
   "skip_h1_title": false,
   "title_cell": "Table of Contents",
   "title_sidebar": "Contents",
   "toc_cell": false,
   "toc_position": {},
   "toc_section_display": true,
   "toc_window_display": false
  }
 },
 "nbformat": 4,
 "nbformat_minor": 2
}
